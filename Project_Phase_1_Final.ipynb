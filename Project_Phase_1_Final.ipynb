{
  "cells": [
    {
      "cell_type": "code",
      "execution_count": null,
      "metadata": {
        "id": "ieG-SjiuqSHY"
      },
      "outputs": [],
      "source": [
        "import pandas as pd\n",
        "import numpy as np\n",
        "import seaborn as sns\n",
        "import matplotlib.pyplot as plt\n",
        "%matplotlib inline\n",
        "from sklearn.feature_selection import chi2"
      ]
    },
    {
      "cell_type": "code",
      "execution_count": null,
      "metadata": {
        "scrolled": true,
        "id": "5Fj-ToF544Ck",
        "outputId": "5a077d9f-5330-443b-a9b9-fb64b6c2f41f"
      },
      "outputs": [
        {
          "data": {
            "text/html": [
              "<div>\n",
              "<style scoped>\n",
              "    .dataframe tbody tr th:only-of-type {\n",
              "        vertical-align: middle;\n",
              "    }\n",
              "\n",
              "    .dataframe tbody tr th {\n",
              "        vertical-align: top;\n",
              "    }\n",
              "\n",
              "    .dataframe thead th {\n",
              "        text-align: right;\n",
              "    }\n",
              "</style>\n",
              "<table border=\"1\" class=\"dataframe\">\n",
              "  <thead>\n",
              "    <tr style=\"text-align: right;\">\n",
              "      <th></th>\n",
              "      <th>Name</th>\n",
              "      <th>Gender</th>\n",
              "      <th>10th %</th>\n",
              "      <th>12th %</th>\n",
              "      <th>CGPA</th>\n",
              "      <th>placement_status</th>\n",
              "      <th>Backlogs</th>\n",
              "      <th>core_concepts</th>\n",
              "      <th>coding</th>\n",
              "      <th>stay</th>\n",
              "      <th>meal_intake</th>\n",
              "      <th>social_media_usage</th>\n",
              "      <th>hrs_in_social_media</th>\n",
              "      <th>sleep(hrs)</th>\n",
              "      <th>physical_activites</th>\n",
              "      <th>communication</th>\n",
              "      <th>no_of_online_courses</th>\n",
              "      <th>Library_usage</th>\n",
              "      <th>study_hours</th>\n",
              "      <th>Attendance</th>\n",
              "    </tr>\n",
              "  </thead>\n",
              "  <tbody>\n",
              "    <tr>\n",
              "      <th>0</th>\n",
              "      <td>Aparna M</td>\n",
              "      <td>Female</td>\n",
              "      <td>93.1</td>\n",
              "      <td>92.3</td>\n",
              "      <td>9.44</td>\n",
              "      <td>Yes (Placed)</td>\n",
              "      <td>No</td>\n",
              "      <td>Beginner</td>\n",
              "      <td>Beginner</td>\n",
              "      <td>Hostel</td>\n",
              "      <td>3</td>\n",
              "      <td>Yes</td>\n",
              "      <td>3.0</td>\n",
              "      <td>Exactly 8</td>\n",
              "      <td>yes</td>\n",
              "      <td>Proficient</td>\n",
              "      <td>4</td>\n",
              "      <td>Below 10</td>\n",
              "      <td>Below 0</td>\n",
              "      <td>Above 90 %</td>\n",
              "    </tr>\n",
              "    <tr>\n",
              "      <th>1</th>\n",
              "      <td>M.Sreenandhini</td>\n",
              "      <td>Female</td>\n",
              "      <td>90.0</td>\n",
              "      <td>65</td>\n",
              "      <td>8.70</td>\n",
              "      <td>No (Not Placed)</td>\n",
              "      <td>No</td>\n",
              "      <td>Proficient</td>\n",
              "      <td>Proficient</td>\n",
              "      <td>Dayscholar</td>\n",
              "      <td>3</td>\n",
              "      <td>Yes</td>\n",
              "      <td>2.0</td>\n",
              "      <td>Above 8</td>\n",
              "      <td>No</td>\n",
              "      <td>Expert</td>\n",
              "      <td>4</td>\n",
              "      <td>Below 10</td>\n",
              "      <td>Between 1 to 5</td>\n",
              "      <td>Above 90 %</td>\n",
              "    </tr>\n",
              "    <tr>\n",
              "      <th>2</th>\n",
              "      <td>Thejaswin</td>\n",
              "      <td>Male</td>\n",
              "      <td>95.0</td>\n",
              "      <td>77</td>\n",
              "      <td>8.40</td>\n",
              "      <td>Yes (Placed)</td>\n",
              "      <td>No</td>\n",
              "      <td>Expert</td>\n",
              "      <td>Expert</td>\n",
              "      <td>Hostel</td>\n",
              "      <td>3</td>\n",
              "      <td>Yes</td>\n",
              "      <td>2.0</td>\n",
              "      <td>Below 8</td>\n",
              "      <td>No</td>\n",
              "      <td>Expert</td>\n",
              "      <td>4</td>\n",
              "      <td>Below 10</td>\n",
              "      <td>Below 0</td>\n",
              "      <td>Between 76 to 89</td>\n",
              "    </tr>\n",
              "    <tr>\n",
              "      <th>3</th>\n",
              "      <td>Hari</td>\n",
              "      <td>Male</td>\n",
              "      <td>97.4</td>\n",
              "      <td>93.8</td>\n",
              "      <td>8.95</td>\n",
              "      <td>Yes (Placed)</td>\n",
              "      <td>No</td>\n",
              "      <td>Beginner</td>\n",
              "      <td>Expert</td>\n",
              "      <td>Hostel</td>\n",
              "      <td>3</td>\n",
              "      <td>Yes</td>\n",
              "      <td>5.0</td>\n",
              "      <td>Above 8</td>\n",
              "      <td>No</td>\n",
              "      <td>Expert</td>\n",
              "      <td>3</td>\n",
              "      <td>Below 10</td>\n",
              "      <td>Between 1 to 5</td>\n",
              "      <td>Between 76 to 89</td>\n",
              "    </tr>\n",
              "    <tr>\n",
              "      <th>4</th>\n",
              "      <td>Varshini R</td>\n",
              "      <td>Female</td>\n",
              "      <td>78.0</td>\n",
              "      <td>82</td>\n",
              "      <td>8.86</td>\n",
              "      <td>Yes (Placed)</td>\n",
              "      <td>No</td>\n",
              "      <td>Expert</td>\n",
              "      <td>Expert</td>\n",
              "      <td>Dayscholar</td>\n",
              "      <td>3</td>\n",
              "      <td>Yes</td>\n",
              "      <td>5.0</td>\n",
              "      <td>Above 8</td>\n",
              "      <td>No</td>\n",
              "      <td>Expert</td>\n",
              "      <td>7</td>\n",
              "      <td>Between 11 to 20</td>\n",
              "      <td>Between 1 to 5</td>\n",
              "      <td>Between 76 to 89</td>\n",
              "    </tr>\n",
              "    <tr>\n",
              "      <th>...</th>\n",
              "      <td>...</td>\n",
              "      <td>...</td>\n",
              "      <td>...</td>\n",
              "      <td>...</td>\n",
              "      <td>...</td>\n",
              "      <td>...</td>\n",
              "      <td>...</td>\n",
              "      <td>...</td>\n",
              "      <td>...</td>\n",
              "      <td>...</td>\n",
              "      <td>...</td>\n",
              "      <td>...</td>\n",
              "      <td>...</td>\n",
              "      <td>...</td>\n",
              "      <td>...</td>\n",
              "      <td>...</td>\n",
              "      <td>...</td>\n",
              "      <td>...</td>\n",
              "      <td>...</td>\n",
              "      <td>...</td>\n",
              "    </tr>\n",
              "    <tr>\n",
              "      <th>80</th>\n",
              "      <td>Ajai A</td>\n",
              "      <td>Male</td>\n",
              "      <td>75.0</td>\n",
              "      <td>64</td>\n",
              "      <td>8.30</td>\n",
              "      <td>No (Not Placed)</td>\n",
              "      <td>No</td>\n",
              "      <td>Proficient</td>\n",
              "      <td>Beginner</td>\n",
              "      <td>Dayscholar</td>\n",
              "      <td>3</td>\n",
              "      <td>Yes</td>\n",
              "      <td>3.0</td>\n",
              "      <td>Above 8</td>\n",
              "      <td>yes</td>\n",
              "      <td>Beginner</td>\n",
              "      <td>3</td>\n",
              "      <td>Below 10</td>\n",
              "      <td>Between 1 to 5</td>\n",
              "      <td>Above 90 %</td>\n",
              "    </tr>\n",
              "    <tr>\n",
              "      <th>81</th>\n",
              "      <td>R.Shreeya</td>\n",
              "      <td>Female</td>\n",
              "      <td>92.0</td>\n",
              "      <td>86.58</td>\n",
              "      <td>7.45</td>\n",
              "      <td>Yes (Placed)</td>\n",
              "      <td>No</td>\n",
              "      <td>Beginner</td>\n",
              "      <td>Beginner</td>\n",
              "      <td>Dayscholar</td>\n",
              "      <td>3</td>\n",
              "      <td>Yes</td>\n",
              "      <td>13.0</td>\n",
              "      <td>Exactly 8</td>\n",
              "      <td>yes</td>\n",
              "      <td>Proficient</td>\n",
              "      <td>2</td>\n",
              "      <td>Below 10</td>\n",
              "      <td>Between 1 to 5</td>\n",
              "      <td>Above 90 %</td>\n",
              "    </tr>\n",
              "    <tr>\n",
              "      <th>82</th>\n",
              "      <td>Rithik</td>\n",
              "      <td>Male</td>\n",
              "      <td>90.3</td>\n",
              "      <td>76.1</td>\n",
              "      <td>8.05</td>\n",
              "      <td>Yes (Placed)</td>\n",
              "      <td>No</td>\n",
              "      <td>Expert</td>\n",
              "      <td>Expert</td>\n",
              "      <td>Hostel</td>\n",
              "      <td>3</td>\n",
              "      <td>Yes</td>\n",
              "      <td>3.0</td>\n",
              "      <td>Below 8</td>\n",
              "      <td>yes</td>\n",
              "      <td>Expert</td>\n",
              "      <td>3</td>\n",
              "      <td>Below 10</td>\n",
              "      <td>Between 1 to 5</td>\n",
              "      <td>Between 76 to 89</td>\n",
              "    </tr>\n",
              "    <tr>\n",
              "      <th>83</th>\n",
              "      <td>Nikitha Ramesh</td>\n",
              "      <td>Female</td>\n",
              "      <td>71.8</td>\n",
              "      <td>85.2</td>\n",
              "      <td>63.10</td>\n",
              "      <td>Yes (Placed)</td>\n",
              "      <td>No</td>\n",
              "      <td>Beginner</td>\n",
              "      <td>Beginner</td>\n",
              "      <td>Dayscholar</td>\n",
              "      <td>3</td>\n",
              "      <td>Yes</td>\n",
              "      <td>4.0</td>\n",
              "      <td>Above 8</td>\n",
              "      <td>yes</td>\n",
              "      <td>Expert</td>\n",
              "      <td>3</td>\n",
              "      <td>Below 10</td>\n",
              "      <td>Between 1 to 5</td>\n",
              "      <td>Above 90 %</td>\n",
              "    </tr>\n",
              "    <tr>\n",
              "      <th>84</th>\n",
              "      <td>Nishitha</td>\n",
              "      <td>Female</td>\n",
              "      <td>100.0</td>\n",
              "      <td>87.6</td>\n",
              "      <td>7.52</td>\n",
              "      <td>Yes (Placed)</td>\n",
              "      <td>No</td>\n",
              "      <td>Beginner</td>\n",
              "      <td>Proficient</td>\n",
              "      <td>Hostel</td>\n",
              "      <td>3</td>\n",
              "      <td>Yes</td>\n",
              "      <td>4.0</td>\n",
              "      <td>Below 8</td>\n",
              "      <td>No</td>\n",
              "      <td>Expert</td>\n",
              "      <td>0</td>\n",
              "      <td>Below 10</td>\n",
              "      <td>Below 0</td>\n",
              "      <td>Above 90 %</td>\n",
              "    </tr>\n",
              "  </tbody>\n",
              "</table>\n",
              "<p>85 rows × 20 columns</p>\n",
              "</div>"
            ],
            "text/plain": [
              "              Name  Gender  10th % 12th %   CGPA placement_status Backlogs  \\\n",
              "0         Aparna M  Female    93.1   92.3   9.44     Yes (Placed)       No   \n",
              "1   M.Sreenandhini  Female    90.0     65   8.70  No (Not Placed)       No   \n",
              "2        Thejaswin    Male    95.0     77   8.40     Yes (Placed)       No   \n",
              "3             Hari    Male    97.4   93.8   8.95     Yes (Placed)       No   \n",
              "4       Varshini R  Female    78.0     82   8.86     Yes (Placed)       No   \n",
              "..             ...     ...     ...    ...    ...              ...      ...   \n",
              "80          Ajai A    Male    75.0     64   8.30  No (Not Placed)       No   \n",
              "81       R.Shreeya  Female    92.0  86.58   7.45     Yes (Placed)       No   \n",
              "82          Rithik    Male    90.3   76.1   8.05     Yes (Placed)       No   \n",
              "83  Nikitha Ramesh  Female    71.8   85.2  63.10     Yes (Placed)       No   \n",
              "84        Nishitha  Female   100.0   87.6   7.52     Yes (Placed)       No   \n",
              "\n",
              "   core_concepts      coding        stay meal_intake social_media_usage  \\\n",
              "0       Beginner    Beginner      Hostel           3                Yes   \n",
              "1     Proficient  Proficient  Dayscholar           3                Yes   \n",
              "2         Expert      Expert      Hostel           3                Yes   \n",
              "3       Beginner      Expert      Hostel           3                Yes   \n",
              "4         Expert      Expert  Dayscholar           3                Yes   \n",
              "..           ...         ...         ...         ...                ...   \n",
              "80    Proficient    Beginner  Dayscholar           3                Yes   \n",
              "81      Beginner    Beginner  Dayscholar           3                Yes   \n",
              "82        Expert      Expert      Hostel           3                Yes   \n",
              "83      Beginner    Beginner  Dayscholar           3                Yes   \n",
              "84      Beginner  Proficient      Hostel           3                Yes   \n",
              "\n",
              "    hrs_in_social_media sleep(hrs) physical_activites communication  \\\n",
              "0                   3.0  Exactly 8                yes    Proficient   \n",
              "1                   2.0    Above 8                 No        Expert   \n",
              "2                   2.0    Below 8                 No        Expert   \n",
              "3                   5.0    Above 8                 No        Expert   \n",
              "4                   5.0    Above 8                 No        Expert   \n",
              "..                  ...        ...                ...           ...   \n",
              "80                  3.0    Above 8                yes      Beginner   \n",
              "81                 13.0  Exactly 8                yes    Proficient   \n",
              "82                  3.0    Below 8                yes        Expert   \n",
              "83                  4.0    Above 8                yes        Expert   \n",
              "84                  4.0    Below 8                 No        Expert   \n",
              "\n",
              "    no_of_online_courses     Library_usage     study_hours        Attendance  \n",
              "0                      4          Below 10         Below 0        Above 90 %  \n",
              "1                      4          Below 10  Between 1 to 5        Above 90 %  \n",
              "2                      4          Below 10         Below 0  Between 76 to 89  \n",
              "3                      3          Below 10  Between 1 to 5  Between 76 to 89  \n",
              "4                      7  Between 11 to 20  Between 1 to 5  Between 76 to 89  \n",
              "..                   ...               ...             ...               ...  \n",
              "80                     3          Below 10  Between 1 to 5        Above 90 %  \n",
              "81                     2          Below 10  Between 1 to 5        Above 90 %  \n",
              "82                     3          Below 10  Between 1 to 5  Between 76 to 89  \n",
              "83                     3          Below 10  Between 1 to 5        Above 90 %  \n",
              "84                     0          Below 10         Below 0        Above 90 %  \n",
              "\n",
              "[85 rows x 20 columns]"
            ]
          },
          "execution_count": 2,
          "metadata": {},
          "output_type": "execute_result"
        }
      ],
      "source": [
        "\n",
        "datas = pd.read_csv('studentrecord.csv')\n",
        "datas"
      ]
    },
    {
      "cell_type": "code",
      "execution_count": null,
      "metadata": {
        "colab": {
          "base_uri": "https://localhost:8080/",
          "height": 307
        },
        "id": "qG1-9aIYv7sU",
        "outputId": "c59e72de-26de-4971-b398-2283e0375e9b"
      },
      "outputs": [
        {
          "data": {
            "text/html": [
              "<div>\n",
              "<style scoped>\n",
              "    .dataframe tbody tr th:only-of-type {\n",
              "        vertical-align: middle;\n",
              "    }\n",
              "\n",
              "    .dataframe tbody tr th {\n",
              "        vertical-align: top;\n",
              "    }\n",
              "\n",
              "    .dataframe thead th {\n",
              "        text-align: right;\n",
              "    }\n",
              "</style>\n",
              "<table border=\"1\" class=\"dataframe\">\n",
              "  <thead>\n",
              "    <tr style=\"text-align: right;\">\n",
              "      <th></th>\n",
              "      <th>Name</th>\n",
              "      <th>Gender</th>\n",
              "      <th>10th %</th>\n",
              "      <th>12th %</th>\n",
              "      <th>CGPA</th>\n",
              "      <th>placement_status</th>\n",
              "      <th>Backlogs</th>\n",
              "      <th>core_concepts</th>\n",
              "      <th>coding</th>\n",
              "      <th>stay</th>\n",
              "      <th>meal_intake</th>\n",
              "      <th>social_media_usage</th>\n",
              "      <th>hrs_in_social_media</th>\n",
              "      <th>sleep(hrs)</th>\n",
              "      <th>physical_activites</th>\n",
              "      <th>communication</th>\n",
              "      <th>no_of_online_courses</th>\n",
              "      <th>Library_usage</th>\n",
              "      <th>study_hours</th>\n",
              "      <th>Attendance</th>\n",
              "    </tr>\n",
              "  </thead>\n",
              "  <tbody>\n",
              "    <tr>\n",
              "      <th>0</th>\n",
              "      <td>Aparna M</td>\n",
              "      <td>Female</td>\n",
              "      <td>93.1</td>\n",
              "      <td>92.3</td>\n",
              "      <td>9.44</td>\n",
              "      <td>Yes (Placed)</td>\n",
              "      <td>No</td>\n",
              "      <td>Beginner</td>\n",
              "      <td>Beginner</td>\n",
              "      <td>Hostel</td>\n",
              "      <td>3</td>\n",
              "      <td>Yes</td>\n",
              "      <td>3.0</td>\n",
              "      <td>Exactly 8</td>\n",
              "      <td>yes</td>\n",
              "      <td>Proficient</td>\n",
              "      <td>4</td>\n",
              "      <td>Below 10</td>\n",
              "      <td>Below 0</td>\n",
              "      <td>Above 90 %</td>\n",
              "    </tr>\n",
              "    <tr>\n",
              "      <th>1</th>\n",
              "      <td>M.Sreenandhini</td>\n",
              "      <td>Female</td>\n",
              "      <td>90.0</td>\n",
              "      <td>65</td>\n",
              "      <td>8.70</td>\n",
              "      <td>No (Not Placed)</td>\n",
              "      <td>No</td>\n",
              "      <td>Proficient</td>\n",
              "      <td>Proficient</td>\n",
              "      <td>Dayscholar</td>\n",
              "      <td>3</td>\n",
              "      <td>Yes</td>\n",
              "      <td>2.0</td>\n",
              "      <td>Above 8</td>\n",
              "      <td>No</td>\n",
              "      <td>Expert</td>\n",
              "      <td>4</td>\n",
              "      <td>Below 10</td>\n",
              "      <td>Between 1 to 5</td>\n",
              "      <td>Above 90 %</td>\n",
              "    </tr>\n",
              "    <tr>\n",
              "      <th>2</th>\n",
              "      <td>Thejaswin</td>\n",
              "      <td>Male</td>\n",
              "      <td>95.0</td>\n",
              "      <td>77</td>\n",
              "      <td>8.40</td>\n",
              "      <td>Yes (Placed)</td>\n",
              "      <td>No</td>\n",
              "      <td>Expert</td>\n",
              "      <td>Expert</td>\n",
              "      <td>Hostel</td>\n",
              "      <td>3</td>\n",
              "      <td>Yes</td>\n",
              "      <td>2.0</td>\n",
              "      <td>Below 8</td>\n",
              "      <td>No</td>\n",
              "      <td>Expert</td>\n",
              "      <td>4</td>\n",
              "      <td>Below 10</td>\n",
              "      <td>Below 0</td>\n",
              "      <td>Between 76 to 89</td>\n",
              "    </tr>\n",
              "    <tr>\n",
              "      <th>3</th>\n",
              "      <td>Hari</td>\n",
              "      <td>Male</td>\n",
              "      <td>97.4</td>\n",
              "      <td>93.8</td>\n",
              "      <td>8.95</td>\n",
              "      <td>Yes (Placed)</td>\n",
              "      <td>No</td>\n",
              "      <td>Beginner</td>\n",
              "      <td>Expert</td>\n",
              "      <td>Hostel</td>\n",
              "      <td>3</td>\n",
              "      <td>Yes</td>\n",
              "      <td>5.0</td>\n",
              "      <td>Above 8</td>\n",
              "      <td>No</td>\n",
              "      <td>Expert</td>\n",
              "      <td>3</td>\n",
              "      <td>Below 10</td>\n",
              "      <td>Between 1 to 5</td>\n",
              "      <td>Between 76 to 89</td>\n",
              "    </tr>\n",
              "    <tr>\n",
              "      <th>4</th>\n",
              "      <td>Varshini R</td>\n",
              "      <td>Female</td>\n",
              "      <td>78.0</td>\n",
              "      <td>82</td>\n",
              "      <td>8.86</td>\n",
              "      <td>Yes (Placed)</td>\n",
              "      <td>No</td>\n",
              "      <td>Expert</td>\n",
              "      <td>Expert</td>\n",
              "      <td>Dayscholar</td>\n",
              "      <td>3</td>\n",
              "      <td>Yes</td>\n",
              "      <td>5.0</td>\n",
              "      <td>Above 8</td>\n",
              "      <td>No</td>\n",
              "      <td>Expert</td>\n",
              "      <td>7</td>\n",
              "      <td>Between 11 to 20</td>\n",
              "      <td>Between 1 to 5</td>\n",
              "      <td>Between 76 to 89</td>\n",
              "    </tr>\n",
              "  </tbody>\n",
              "</table>\n",
              "</div>"
            ],
            "text/plain": [
              "             Name  Gender  10th % 12th %  CGPA placement_status Backlogs  \\\n",
              "0        Aparna M  Female    93.1   92.3  9.44     Yes (Placed)       No   \n",
              "1  M.Sreenandhini  Female    90.0     65  8.70  No (Not Placed)       No   \n",
              "2       Thejaswin    Male    95.0     77  8.40     Yes (Placed)       No   \n",
              "3            Hari    Male    97.4   93.8  8.95     Yes (Placed)       No   \n",
              "4      Varshini R  Female    78.0     82  8.86     Yes (Placed)       No   \n",
              "\n",
              "  core_concepts      coding        stay meal_intake social_media_usage  \\\n",
              "0      Beginner    Beginner      Hostel           3                Yes   \n",
              "1    Proficient  Proficient  Dayscholar           3                Yes   \n",
              "2        Expert      Expert      Hostel           3                Yes   \n",
              "3      Beginner      Expert      Hostel           3                Yes   \n",
              "4        Expert      Expert  Dayscholar           3                Yes   \n",
              "\n",
              "   hrs_in_social_media sleep(hrs) physical_activites communication  \\\n",
              "0                  3.0  Exactly 8                yes    Proficient   \n",
              "1                  2.0    Above 8                 No        Expert   \n",
              "2                  2.0    Below 8                 No        Expert   \n",
              "3                  5.0    Above 8                 No        Expert   \n",
              "4                  5.0    Above 8                 No        Expert   \n",
              "\n",
              "   no_of_online_courses     Library_usage     study_hours        Attendance  \n",
              "0                     4          Below 10         Below 0        Above 90 %  \n",
              "1                     4          Below 10  Between 1 to 5        Above 90 %  \n",
              "2                     4          Below 10         Below 0  Between 76 to 89  \n",
              "3                     3          Below 10  Between 1 to 5  Between 76 to 89  \n",
              "4                     7  Between 11 to 20  Between 1 to 5  Between 76 to 89  "
            ]
          },
          "execution_count": 3,
          "metadata": {},
          "output_type": "execute_result"
        }
      ],
      "source": [
        "datas.head()"
      ]
    },
    {
      "cell_type": "code",
      "execution_count": null,
      "metadata": {
        "colab": {
          "base_uri": "https://localhost:8080/"
        },
        "id": "V1t1GReJ4VNF",
        "outputId": "977bea4c-60d1-41ab-8ba4-764a608e8dc6"
      },
      "outputs": [
        {
          "data": {
            "text/plain": [
              "(85, 20)"
            ]
          },
          "execution_count": 3,
          "metadata": {},
          "output_type": "execute_result"
        }
      ],
      "source": [
        "datas.shape"
      ]
    },
    {
      "cell_type": "code",
      "execution_count": null,
      "metadata": {
        "colab": {
          "base_uri": "https://localhost:8080/"
        },
        "id": "qtpwDcgU4XC7",
        "outputId": "b52de04e-0c61-4111-f91e-dfa2c4551470"
      },
      "outputs": [
        {
          "name": "stdout",
          "output_type": "stream",
          "text": [
            "<class 'pandas.core.frame.DataFrame'>\n",
            "RangeIndex: 85 entries, 0 to 84\n",
            "Data columns (total 20 columns):\n",
            " #   Column                Non-Null Count  Dtype  \n",
            "---  ------                --------------  -----  \n",
            " 0   Name                  85 non-null     object \n",
            " 1   Gender                85 non-null     object \n",
            " 2   10th %                85 non-null     float64\n",
            " 3   12th %                85 non-null     object \n",
            " 4   CGPA                  85 non-null     float64\n",
            " 5   placement_status      85 non-null     object \n",
            " 6   Backlogs              85 non-null     object \n",
            " 7   core_concepts         85 non-null     object \n",
            " 8   coding                85 non-null     object \n",
            " 9   stay                  85 non-null     object \n",
            " 10  meal_intake           85 non-null     object \n",
            " 11  social_media_usage    85 non-null     object \n",
            " 12  hrs_in_social_media   82 non-null     float64\n",
            " 13  sleep(hrs)            85 non-null     object \n",
            " 14  physical_activites    85 non-null     object \n",
            " 15  communication         85 non-null     object \n",
            " 16  no_of_online_courses  85 non-null     int64  \n",
            " 17  Library_usage         85 non-null     object \n",
            " 18  study_hours           85 non-null     object \n",
            " 19  Attendance            85 non-null     object \n",
            "dtypes: float64(3), int64(1), object(16)\n",
            "memory usage: 13.4+ KB\n"
          ]
        }
      ],
      "source": [
        "datas.info()"
      ]
    },
    {
      "cell_type": "code",
      "execution_count": null,
      "metadata": {
        "id": "8owz1_-c44Co",
        "outputId": "06b67c8d-54bf-444e-8d2e-96bb2b48b57b"
      },
      "outputs": [
        {
          "data": {
            "text/plain": [
              "Index(['Name', 'Gender', '10th %', '12th %', 'CGPA', 'placement_status',\n",
              "       'Backlogs', 'core_concepts', 'coding', 'stay', 'meal_intake',\n",
              "       'social_media_usage', 'hrs_in_social_media', 'sleep(hrs)',\n",
              "       'physical_activites', 'communication', 'no_of_online_courses',\n",
              "       'Library_usage', 'study_hours', 'Attendance'],\n",
              "      dtype='object')"
            ]
          },
          "execution_count": 5,
          "metadata": {},
          "output_type": "execute_result"
        }
      ],
      "source": [
        "datas.columns"
      ]
    },
    {
      "cell_type": "code",
      "execution_count": null,
      "metadata": {
        "id": "Me8CSmzZ44Co",
        "outputId": "1c207215-ffe6-431f-c995-c1ad9cefa12a"
      },
      "outputs": [
        {
          "data": {
            "text/plain": [
              "Name                    85\n",
              "Gender                   2\n",
              "10th %                  40\n",
              "12th %                  63\n",
              "CGPA                    58\n",
              "placement_status         2\n",
              "Backlogs                 2\n",
              "core_concepts            3\n",
              "coding                   3\n",
              "stay                     2\n",
              "meal_intake              4\n",
              "social_media_usage       2\n",
              "hrs_in_social_media     12\n",
              "sleep(hrs)               3\n",
              "physical_activites       2\n",
              "communication            3\n",
              "no_of_online_courses    17\n",
              "Library_usage            3\n",
              "study_hours              3\n",
              "Attendance               3\n",
              "dtype: int64"
            ]
          },
          "execution_count": 6,
          "metadata": {},
          "output_type": "execute_result"
        }
      ],
      "source": [
        "datas.nunique()"
      ]
    },
    {
      "cell_type": "code",
      "execution_count": null,
      "metadata": {
        "colab": {
          "base_uri": "https://localhost:8080/",
          "height": 295
        },
        "id": "XhaEOpZ04YlT",
        "outputId": "0dfbe08e-73f2-475c-f960-895176d7fdb3"
      },
      "outputs": [
        {
          "data": {
            "text/html": [
              "<div>\n",
              "<style scoped>\n",
              "    .dataframe tbody tr th:only-of-type {\n",
              "        vertical-align: middle;\n",
              "    }\n",
              "\n",
              "    .dataframe tbody tr th {\n",
              "        vertical-align: top;\n",
              "    }\n",
              "\n",
              "    .dataframe thead th {\n",
              "        text-align: right;\n",
              "    }\n",
              "</style>\n",
              "<table border=\"1\" class=\"dataframe\">\n",
              "  <thead>\n",
              "    <tr style=\"text-align: right;\">\n",
              "      <th></th>\n",
              "      <th>10th %</th>\n",
              "      <th>CGPA</th>\n",
              "      <th>hrs_in_social_media</th>\n",
              "      <th>no_of_online_courses</th>\n",
              "    </tr>\n",
              "  </thead>\n",
              "  <tbody>\n",
              "    <tr>\n",
              "      <th>count</th>\n",
              "      <td>85.000000</td>\n",
              "      <td>85.000000</td>\n",
              "      <td>82.000000</td>\n",
              "      <td>85.000000</td>\n",
              "    </tr>\n",
              "    <tr>\n",
              "      <th>mean</th>\n",
              "      <td>99.374118</td>\n",
              "      <td>10.964235</td>\n",
              "      <td>3.676829</td>\n",
              "      <td>5.588235</td>\n",
              "    </tr>\n",
              "    <tr>\n",
              "      <th>std</th>\n",
              "      <td>54.314918</td>\n",
              "      <td>12.654189</td>\n",
              "      <td>3.125336</td>\n",
              "      <td>5.278650</td>\n",
              "    </tr>\n",
              "    <tr>\n",
              "      <th>min</th>\n",
              "      <td>0.000000</td>\n",
              "      <td>0.000000</td>\n",
              "      <td>0.000000</td>\n",
              "      <td>0.000000</td>\n",
              "    </tr>\n",
              "    <tr>\n",
              "      <th>25%</th>\n",
              "      <td>89.000000</td>\n",
              "      <td>8.270000</td>\n",
              "      <td>2.000000</td>\n",
              "      <td>3.000000</td>\n",
              "    </tr>\n",
              "    <tr>\n",
              "      <th>50%</th>\n",
              "      <td>96.000000</td>\n",
              "      <td>8.790000</td>\n",
              "      <td>3.000000</td>\n",
              "      <td>4.000000</td>\n",
              "    </tr>\n",
              "    <tr>\n",
              "      <th>75%</th>\n",
              "      <td>98.200000</td>\n",
              "      <td>9.210000</td>\n",
              "      <td>4.750000</td>\n",
              "      <td>6.000000</td>\n",
              "    </tr>\n",
              "    <tr>\n",
              "      <th>max</th>\n",
              "      <td>492.000000</td>\n",
              "      <td>88.000000</td>\n",
              "      <td>24.000000</td>\n",
              "      <td>35.000000</td>\n",
              "    </tr>\n",
              "  </tbody>\n",
              "</table>\n",
              "</div>"
            ],
            "text/plain": [
              "           10th %       CGPA  hrs_in_social_media  no_of_online_courses\n",
              "count   85.000000  85.000000            82.000000             85.000000\n",
              "mean    99.374118  10.964235             3.676829              5.588235\n",
              "std     54.314918  12.654189             3.125336              5.278650\n",
              "min      0.000000   0.000000             0.000000              0.000000\n",
              "25%     89.000000   8.270000             2.000000              3.000000\n",
              "50%     96.000000   8.790000             3.000000              4.000000\n",
              "75%     98.200000   9.210000             4.750000              6.000000\n",
              "max    492.000000  88.000000            24.000000             35.000000"
            ]
          },
          "execution_count": 10,
          "metadata": {},
          "output_type": "execute_result"
        }
      ],
      "source": [
        "datas.describe()"
      ]
    },
    {
      "cell_type": "code",
      "execution_count": null,
      "metadata": {
        "colab": {
          "base_uri": "https://localhost:8080/"
        },
        "id": "5jhzR-A14aoT",
        "outputId": "05f46657-0b30-4a9d-8ed4-bea29fa67adc"
      },
      "outputs": [
        {
          "data": {
            "text/plain": [
              "Name                     object\n",
              "Gender                   object\n",
              "10th %                  float64\n",
              "12th %                   object\n",
              "CGPA                    float64\n",
              "placement_status         object\n",
              "Backlogs                 object\n",
              "core_concepts            object\n",
              "coding                   object\n",
              "stay                     object\n",
              "meal_intake              object\n",
              "social_media_usage       object\n",
              "hrs_in_social_media     float64\n",
              "sleep(hrs)               object\n",
              "physical_activites       object\n",
              "communication            object\n",
              "no_of_online_courses      int64\n",
              "Library_usage            object\n",
              "study_hours              object\n",
              "Attendance               object\n",
              "dtype: object"
            ]
          },
          "execution_count": 11,
          "metadata": {},
          "output_type": "execute_result"
        }
      ],
      "source": [
        "datas.dtypes"
      ]
    },
    {
      "cell_type": "code",
      "execution_count": null,
      "metadata": {
        "colab": {
          "base_uri": "https://localhost:8080/"
        },
        "id": "X_l5Ff7j4gPG",
        "outputId": "99b7376d-5621-46b7-a4f3-e801ec3026d4"
      },
      "outputs": [
        {
          "data": {
            "text/plain": [
              "Name                    0\n",
              "Gender                  0\n",
              "10th %                  0\n",
              "12th %                  0\n",
              "CGPA                    0\n",
              "placement_status        0\n",
              "Backlogs                0\n",
              "core_concepts           0\n",
              "coding                  0\n",
              "stay                    0\n",
              "meal_intake             0\n",
              "social_media_usage      0\n",
              "hrs_in_social_media     3\n",
              "sleep(hrs)              0\n",
              "physical_activites      0\n",
              "communication           0\n",
              "no_of_online_courses    0\n",
              "Library_usage           0\n",
              "study_hours             0\n",
              "Attendance              0\n",
              "dtype: int64"
            ]
          },
          "execution_count": 4,
          "metadata": {},
          "output_type": "execute_result"
        }
      ],
      "source": [
        "datas.isnull().sum()"
      ]
    },
    {
      "cell_type": "code",
      "execution_count": null,
      "metadata": {
        "id": "RmOVc5JG44Cr",
        "outputId": "fdf327e4-0c6a-4bdf-fdec-a8cf6da8378c"
      },
      "outputs": [
        {
          "data": {
            "text/html": [
              "<div>\n",
              "<style scoped>\n",
              "    .dataframe tbody tr th:only-of-type {\n",
              "        vertical-align: middle;\n",
              "    }\n",
              "\n",
              "    .dataframe tbody tr th {\n",
              "        vertical-align: top;\n",
              "    }\n",
              "\n",
              "    .dataframe thead th {\n",
              "        text-align: right;\n",
              "    }\n",
              "</style>\n",
              "<table border=\"1\" class=\"dataframe\">\n",
              "  <thead>\n",
              "    <tr style=\"text-align: right;\">\n",
              "      <th></th>\n",
              "      <th>Name</th>\n",
              "      <th>Gender</th>\n",
              "      <th>10th %</th>\n",
              "      <th>12th %</th>\n",
              "      <th>CGPA</th>\n",
              "      <th>placement_status</th>\n",
              "      <th>Backlogs</th>\n",
              "      <th>core_concepts</th>\n",
              "      <th>coding</th>\n",
              "      <th>stay</th>\n",
              "      <th>meal_intake</th>\n",
              "      <th>social_media_usage</th>\n",
              "      <th>hrs_in_social_media</th>\n",
              "      <th>sleep(hrs)</th>\n",
              "      <th>physical_activites</th>\n",
              "      <th>communication</th>\n",
              "      <th>no_of_online_courses</th>\n",
              "      <th>Library_usage</th>\n",
              "      <th>study_hours</th>\n",
              "      <th>Attendance</th>\n",
              "    </tr>\n",
              "  </thead>\n",
              "  <tbody>\n",
              "    <tr>\n",
              "      <th>0</th>\n",
              "      <td>Aparna M</td>\n",
              "      <td>1</td>\n",
              "      <td>93.1</td>\n",
              "      <td>92.3</td>\n",
              "      <td>9.44</td>\n",
              "      <td>1</td>\n",
              "      <td>0</td>\n",
              "      <td>1</td>\n",
              "      <td>1</td>\n",
              "      <td>0</td>\n",
              "      <td>3</td>\n",
              "      <td>1</td>\n",
              "      <td>3.0</td>\n",
              "      <td>2</td>\n",
              "      <td>1</td>\n",
              "      <td>3</td>\n",
              "      <td>4</td>\n",
              "      <td>1</td>\n",
              "      <td>0.0</td>\n",
              "      <td>3</td>\n",
              "    </tr>\n",
              "    <tr>\n",
              "      <th>1</th>\n",
              "      <td>M.Sreenandhini</td>\n",
              "      <td>1</td>\n",
              "      <td>90.0</td>\n",
              "      <td>65</td>\n",
              "      <td>8.70</td>\n",
              "      <td>0</td>\n",
              "      <td>0</td>\n",
              "      <td>3</td>\n",
              "      <td>3</td>\n",
              "      <td>1</td>\n",
              "      <td>3</td>\n",
              "      <td>1</td>\n",
              "      <td>2.0</td>\n",
              "      <td>3</td>\n",
              "      <td>0</td>\n",
              "      <td>2</td>\n",
              "      <td>4</td>\n",
              "      <td>1</td>\n",
              "      <td>2.0</td>\n",
              "      <td>3</td>\n",
              "    </tr>\n",
              "    <tr>\n",
              "      <th>2</th>\n",
              "      <td>Thejaswin</td>\n",
              "      <td>0</td>\n",
              "      <td>95.0</td>\n",
              "      <td>77</td>\n",
              "      <td>8.40</td>\n",
              "      <td>1</td>\n",
              "      <td>0</td>\n",
              "      <td>2</td>\n",
              "      <td>2</td>\n",
              "      <td>0</td>\n",
              "      <td>3</td>\n",
              "      <td>1</td>\n",
              "      <td>2.0</td>\n",
              "      <td>1</td>\n",
              "      <td>0</td>\n",
              "      <td>2</td>\n",
              "      <td>4</td>\n",
              "      <td>1</td>\n",
              "      <td>0.0</td>\n",
              "      <td>2</td>\n",
              "    </tr>\n",
              "    <tr>\n",
              "      <th>3</th>\n",
              "      <td>Hari</td>\n",
              "      <td>0</td>\n",
              "      <td>97.4</td>\n",
              "      <td>93.8</td>\n",
              "      <td>8.95</td>\n",
              "      <td>1</td>\n",
              "      <td>0</td>\n",
              "      <td>1</td>\n",
              "      <td>2</td>\n",
              "      <td>0</td>\n",
              "      <td>3</td>\n",
              "      <td>1</td>\n",
              "      <td>5.0</td>\n",
              "      <td>3</td>\n",
              "      <td>0</td>\n",
              "      <td>2</td>\n",
              "      <td>3</td>\n",
              "      <td>1</td>\n",
              "      <td>2.0</td>\n",
              "      <td>2</td>\n",
              "    </tr>\n",
              "    <tr>\n",
              "      <th>4</th>\n",
              "      <td>Varshini R</td>\n",
              "      <td>1</td>\n",
              "      <td>78.0</td>\n",
              "      <td>82</td>\n",
              "      <td>8.86</td>\n",
              "      <td>1</td>\n",
              "      <td>0</td>\n",
              "      <td>2</td>\n",
              "      <td>2</td>\n",
              "      <td>1</td>\n",
              "      <td>3</td>\n",
              "      <td>1</td>\n",
              "      <td>5.0</td>\n",
              "      <td>3</td>\n",
              "      <td>0</td>\n",
              "      <td>2</td>\n",
              "      <td>7</td>\n",
              "      <td>2</td>\n",
              "      <td>2.0</td>\n",
              "      <td>2</td>\n",
              "    </tr>\n",
              "    <tr>\n",
              "      <th>...</th>\n",
              "      <td>...</td>\n",
              "      <td>...</td>\n",
              "      <td>...</td>\n",
              "      <td>...</td>\n",
              "      <td>...</td>\n",
              "      <td>...</td>\n",
              "      <td>...</td>\n",
              "      <td>...</td>\n",
              "      <td>...</td>\n",
              "      <td>...</td>\n",
              "      <td>...</td>\n",
              "      <td>...</td>\n",
              "      <td>...</td>\n",
              "      <td>...</td>\n",
              "      <td>...</td>\n",
              "      <td>...</td>\n",
              "      <td>...</td>\n",
              "      <td>...</td>\n",
              "      <td>...</td>\n",
              "      <td>...</td>\n",
              "    </tr>\n",
              "    <tr>\n",
              "      <th>80</th>\n",
              "      <td>Ajai A</td>\n",
              "      <td>0</td>\n",
              "      <td>75.0</td>\n",
              "      <td>64</td>\n",
              "      <td>8.30</td>\n",
              "      <td>0</td>\n",
              "      <td>0</td>\n",
              "      <td>3</td>\n",
              "      <td>1</td>\n",
              "      <td>1</td>\n",
              "      <td>3</td>\n",
              "      <td>1</td>\n",
              "      <td>3.0</td>\n",
              "      <td>3</td>\n",
              "      <td>1</td>\n",
              "      <td>1</td>\n",
              "      <td>3</td>\n",
              "      <td>1</td>\n",
              "      <td>2.0</td>\n",
              "      <td>3</td>\n",
              "    </tr>\n",
              "    <tr>\n",
              "      <th>81</th>\n",
              "      <td>R.Shreeya</td>\n",
              "      <td>1</td>\n",
              "      <td>92.0</td>\n",
              "      <td>86.58</td>\n",
              "      <td>7.45</td>\n",
              "      <td>1</td>\n",
              "      <td>0</td>\n",
              "      <td>1</td>\n",
              "      <td>1</td>\n",
              "      <td>1</td>\n",
              "      <td>3</td>\n",
              "      <td>1</td>\n",
              "      <td>13.0</td>\n",
              "      <td>2</td>\n",
              "      <td>1</td>\n",
              "      <td>3</td>\n",
              "      <td>2</td>\n",
              "      <td>1</td>\n",
              "      <td>2.0</td>\n",
              "      <td>3</td>\n",
              "    </tr>\n",
              "    <tr>\n",
              "      <th>82</th>\n",
              "      <td>Rithik</td>\n",
              "      <td>0</td>\n",
              "      <td>90.3</td>\n",
              "      <td>76.1</td>\n",
              "      <td>8.05</td>\n",
              "      <td>1</td>\n",
              "      <td>0</td>\n",
              "      <td>2</td>\n",
              "      <td>2</td>\n",
              "      <td>0</td>\n",
              "      <td>3</td>\n",
              "      <td>1</td>\n",
              "      <td>3.0</td>\n",
              "      <td>1</td>\n",
              "      <td>1</td>\n",
              "      <td>2</td>\n",
              "      <td>3</td>\n",
              "      <td>1</td>\n",
              "      <td>2.0</td>\n",
              "      <td>2</td>\n",
              "    </tr>\n",
              "    <tr>\n",
              "      <th>83</th>\n",
              "      <td>Nikitha Ramesh</td>\n",
              "      <td>1</td>\n",
              "      <td>71.8</td>\n",
              "      <td>85.2</td>\n",
              "      <td>63.10</td>\n",
              "      <td>1</td>\n",
              "      <td>0</td>\n",
              "      <td>1</td>\n",
              "      <td>1</td>\n",
              "      <td>1</td>\n",
              "      <td>3</td>\n",
              "      <td>1</td>\n",
              "      <td>4.0</td>\n",
              "      <td>3</td>\n",
              "      <td>1</td>\n",
              "      <td>2</td>\n",
              "      <td>3</td>\n",
              "      <td>1</td>\n",
              "      <td>2.0</td>\n",
              "      <td>3</td>\n",
              "    </tr>\n",
              "    <tr>\n",
              "      <th>84</th>\n",
              "      <td>Nishitha</td>\n",
              "      <td>1</td>\n",
              "      <td>100.0</td>\n",
              "      <td>87.6</td>\n",
              "      <td>7.52</td>\n",
              "      <td>1</td>\n",
              "      <td>0</td>\n",
              "      <td>1</td>\n",
              "      <td>3</td>\n",
              "      <td>0</td>\n",
              "      <td>3</td>\n",
              "      <td>1</td>\n",
              "      <td>4.0</td>\n",
              "      <td>1</td>\n",
              "      <td>0</td>\n",
              "      <td>2</td>\n",
              "      <td>0</td>\n",
              "      <td>1</td>\n",
              "      <td>0.0</td>\n",
              "      <td>3</td>\n",
              "    </tr>\n",
              "  </tbody>\n",
              "</table>\n",
              "<p>85 rows × 20 columns</p>\n",
              "</div>"
            ],
            "text/plain": [
              "              Name  Gender  10th % 12th %   CGPA  placement_status  Backlogs  \\\n",
              "0         Aparna M       1    93.1   92.3   9.44                 1         0   \n",
              "1   M.Sreenandhini       1    90.0     65   8.70                 0         0   \n",
              "2        Thejaswin       0    95.0     77   8.40                 1         0   \n",
              "3             Hari       0    97.4   93.8   8.95                 1         0   \n",
              "4       Varshini R       1    78.0     82   8.86                 1         0   \n",
              "..             ...     ...     ...    ...    ...               ...       ...   \n",
              "80          Ajai A       0    75.0     64   8.30                 0         0   \n",
              "81       R.Shreeya       1    92.0  86.58   7.45                 1         0   \n",
              "82          Rithik       0    90.3   76.1   8.05                 1         0   \n",
              "83  Nikitha Ramesh       1    71.8   85.2  63.10                 1         0   \n",
              "84        Nishitha       1   100.0   87.6   7.52                 1         0   \n",
              "\n",
              "    core_concepts  coding  stay meal_intake  social_media_usage  \\\n",
              "0               1       1     0           3                   1   \n",
              "1               3       3     1           3                   1   \n",
              "2               2       2     0           3                   1   \n",
              "3               1       2     0           3                   1   \n",
              "4               2       2     1           3                   1   \n",
              "..            ...     ...   ...         ...                 ...   \n",
              "80              3       1     1           3                   1   \n",
              "81              1       1     1           3                   1   \n",
              "82              2       2     0           3                   1   \n",
              "83              1       1     1           3                   1   \n",
              "84              1       3     0           3                   1   \n",
              "\n",
              "    hrs_in_social_media  sleep(hrs)  physical_activites  communication  \\\n",
              "0                   3.0           2                   1              3   \n",
              "1                   2.0           3                   0              2   \n",
              "2                   2.0           1                   0              2   \n",
              "3                   5.0           3                   0              2   \n",
              "4                   5.0           3                   0              2   \n",
              "..                  ...         ...                 ...            ...   \n",
              "80                  3.0           3                   1              1   \n",
              "81                 13.0           2                   1              3   \n",
              "82                  3.0           1                   1              2   \n",
              "83                  4.0           3                   1              2   \n",
              "84                  4.0           1                   0              2   \n",
              "\n",
              "    no_of_online_courses  Library_usage  study_hours  Attendance  \n",
              "0                      4              1          0.0           3  \n",
              "1                      4              1          2.0           3  \n",
              "2                      4              1          0.0           2  \n",
              "3                      3              1          2.0           2  \n",
              "4                      7              2          2.0           2  \n",
              "..                   ...            ...          ...         ...  \n",
              "80                     3              1          2.0           3  \n",
              "81                     2              1          2.0           3  \n",
              "82                     3              1          2.0           2  \n",
              "83                     3              1          2.0           3  \n",
              "84                     0              1          0.0           3  \n",
              "\n",
              "[85 rows x 20 columns]"
            ]
          },
          "execution_count": 37,
          "metadata": {},
          "output_type": "execute_result"
        }
      ],
      "source": [
        "\n",
        "datas.fillna(0)\n"
      ]
    },
    {
      "cell_type": "code",
      "execution_count": null,
      "metadata": {
        "id": "YWW5KFh55nIf"
      },
      "outputs": [],
      "source": [
        "datas['Gender'] = datas['Gender'].apply({'Male':0, 'Female':1}.get)\n",
        "datas['Backlogs'] = datas['Backlogs'].apply({'No':0, 'Yes':1}.get)\n",
        "datas['placement_status'] = datas['placement_status'].apply({'No (Not Placed)':0, 'Yes (Placed)':1}.get)\n",
        "datas['social_media_usage'] = datas['social_media_usage'].apply({'No':0, 'Yes':1}.get)\n",
        "datas['physical_activites'] = datas['physical_activites'].apply({'No':0, 'yes':1}.get)\n",
        "datas['core_concepts'] = datas['core_concepts'].apply({'Beginner':1, 'Expert':2,'Proficient':3}.get)\n",
        "datas['coding'] = datas['coding'].apply({'Beginner':1, 'Expert':2,'Proficient':3}.get)\n",
        "datas['communication'] = datas['communication'].apply({'Beginner':1, 'Expert':2,'Proficient':3}.get)\n",
        "datas['stay'] = datas['stay'].apply({'Hostel':0, 'Dayscholar':1}.get)\n",
        "datas['sleep(hrs)'] = datas['sleep(hrs)'].apply({'Below 8':1, 'Exactly 8':2, 'Above 8':3}.get)\n",
        "datas['Library_usage'] = datas['Library_usage'].apply({'Below 10':1, 'Between 11 to 20':2, 'Above 21':3}.get)\n",
        "datas['Attendance'] = datas['Attendance'].apply({'Below 75':1, 'Between 76 to 89':2, 'Above 90 %':3}.get)\n",
        "datas['study_hours']=datas['study_hours'].apply({ '0':1, 'Between 1 to 5':2, 'Above 5':3}.get)"
      ]
    },
    {
      "cell_type": "code",
      "execution_count": null,
      "metadata": {
        "id": "MTG9c-wu44Cs"
      },
      "outputs": [],
      "source": [
        ""
      ]
    },
    {
      "cell_type": "code",
      "execution_count": null,
      "metadata": {
        "id": "5OK5RKGL44Ct",
        "outputId": "cf0ac4e5-91ca-47af-bf38-d9e0cc4cb991"
      },
      "outputs": [
        {
          "data": {
            "text/html": [
              "<div>\n",
              "<style scoped>\n",
              "    .dataframe tbody tr th:only-of-type {\n",
              "        vertical-align: middle;\n",
              "    }\n",
              "\n",
              "    .dataframe tbody tr th {\n",
              "        vertical-align: top;\n",
              "    }\n",
              "\n",
              "    .dataframe thead th {\n",
              "        text-align: right;\n",
              "    }\n",
              "</style>\n",
              "<table border=\"1\" class=\"dataframe\">\n",
              "  <thead>\n",
              "    <tr style=\"text-align: right;\">\n",
              "      <th></th>\n",
              "      <th>Name</th>\n",
              "      <th>Gender</th>\n",
              "      <th>10th %</th>\n",
              "      <th>12th %</th>\n",
              "      <th>CGPA</th>\n",
              "      <th>placement_status</th>\n",
              "      <th>Backlogs</th>\n",
              "      <th>core_concepts</th>\n",
              "      <th>coding</th>\n",
              "      <th>stay</th>\n",
              "      <th>meal_intake</th>\n",
              "      <th>social_media_usage</th>\n",
              "      <th>hrs_in_social_media</th>\n",
              "      <th>sleep(hrs)</th>\n",
              "      <th>physical_activites</th>\n",
              "      <th>communication</th>\n",
              "      <th>no_of_online_courses</th>\n",
              "      <th>Library_usage</th>\n",
              "      <th>study_hours</th>\n",
              "      <th>Attendance</th>\n",
              "    </tr>\n",
              "  </thead>\n",
              "  <tbody>\n",
              "    <tr>\n",
              "      <th>0</th>\n",
              "      <td>Aparna M</td>\n",
              "      <td>1</td>\n",
              "      <td>93.1</td>\n",
              "      <td>92.3</td>\n",
              "      <td>9.44</td>\n",
              "      <td>1</td>\n",
              "      <td>0</td>\n",
              "      <td>1</td>\n",
              "      <td>1</td>\n",
              "      <td>0</td>\n",
              "      <td>3</td>\n",
              "      <td>1</td>\n",
              "      <td>3.0</td>\n",
              "      <td>2</td>\n",
              "      <td>1</td>\n",
              "      <td>3</td>\n",
              "      <td>4</td>\n",
              "      <td>1</td>\n",
              "      <td>NaN</td>\n",
              "      <td>3</td>\n",
              "    </tr>\n",
              "    <tr>\n",
              "      <th>1</th>\n",
              "      <td>M.Sreenandhini</td>\n",
              "      <td>1</td>\n",
              "      <td>90.0</td>\n",
              "      <td>65</td>\n",
              "      <td>8.70</td>\n",
              "      <td>0</td>\n",
              "      <td>0</td>\n",
              "      <td>3</td>\n",
              "      <td>3</td>\n",
              "      <td>1</td>\n",
              "      <td>3</td>\n",
              "      <td>1</td>\n",
              "      <td>2.0</td>\n",
              "      <td>3</td>\n",
              "      <td>0</td>\n",
              "      <td>2</td>\n",
              "      <td>4</td>\n",
              "      <td>1</td>\n",
              "      <td>2.0</td>\n",
              "      <td>3</td>\n",
              "    </tr>\n",
              "    <tr>\n",
              "      <th>2</th>\n",
              "      <td>Thejaswin</td>\n",
              "      <td>0</td>\n",
              "      <td>95.0</td>\n",
              "      <td>77</td>\n",
              "      <td>8.40</td>\n",
              "      <td>1</td>\n",
              "      <td>0</td>\n",
              "      <td>2</td>\n",
              "      <td>2</td>\n",
              "      <td>0</td>\n",
              "      <td>3</td>\n",
              "      <td>1</td>\n",
              "      <td>2.0</td>\n",
              "      <td>1</td>\n",
              "      <td>0</td>\n",
              "      <td>2</td>\n",
              "      <td>4</td>\n",
              "      <td>1</td>\n",
              "      <td>NaN</td>\n",
              "      <td>2</td>\n",
              "    </tr>\n",
              "    <tr>\n",
              "      <th>3</th>\n",
              "      <td>Hari</td>\n",
              "      <td>0</td>\n",
              "      <td>97.4</td>\n",
              "      <td>93.8</td>\n",
              "      <td>8.95</td>\n",
              "      <td>1</td>\n",
              "      <td>0</td>\n",
              "      <td>1</td>\n",
              "      <td>2</td>\n",
              "      <td>0</td>\n",
              "      <td>3</td>\n",
              "      <td>1</td>\n",
              "      <td>5.0</td>\n",
              "      <td>3</td>\n",
              "      <td>0</td>\n",
              "      <td>2</td>\n",
              "      <td>3</td>\n",
              "      <td>1</td>\n",
              "      <td>2.0</td>\n",
              "      <td>2</td>\n",
              "    </tr>\n",
              "    <tr>\n",
              "      <th>4</th>\n",
              "      <td>Varshini R</td>\n",
              "      <td>1</td>\n",
              "      <td>78.0</td>\n",
              "      <td>82</td>\n",
              "      <td>8.86</td>\n",
              "      <td>1</td>\n",
              "      <td>0</td>\n",
              "      <td>2</td>\n",
              "      <td>2</td>\n",
              "      <td>1</td>\n",
              "      <td>3</td>\n",
              "      <td>1</td>\n",
              "      <td>5.0</td>\n",
              "      <td>3</td>\n",
              "      <td>0</td>\n",
              "      <td>2</td>\n",
              "      <td>7</td>\n",
              "      <td>2</td>\n",
              "      <td>2.0</td>\n",
              "      <td>2</td>\n",
              "    </tr>\n",
              "  </tbody>\n",
              "</table>\n",
              "</div>"
            ],
            "text/plain": [
              "             Name  Gender  10th % 12th %  CGPA  placement_status  Backlogs  \\\n",
              "0        Aparna M       1    93.1   92.3  9.44                 1         0   \n",
              "1  M.Sreenandhini       1    90.0     65  8.70                 0         0   \n",
              "2       Thejaswin       0    95.0     77  8.40                 1         0   \n",
              "3            Hari       0    97.4   93.8  8.95                 1         0   \n",
              "4      Varshini R       1    78.0     82  8.86                 1         0   \n",
              "\n",
              "   core_concepts  coding  stay meal_intake  social_media_usage  \\\n",
              "0              1       1     0           3                   1   \n",
              "1              3       3     1           3                   1   \n",
              "2              2       2     0           3                   1   \n",
              "3              1       2     0           3                   1   \n",
              "4              2       2     1           3                   1   \n",
              "\n",
              "   hrs_in_social_media  sleep(hrs)  physical_activites  communication  \\\n",
              "0                  3.0           2                   1              3   \n",
              "1                  2.0           3                   0              2   \n",
              "2                  2.0           1                   0              2   \n",
              "3                  5.0           3                   0              2   \n",
              "4                  5.0           3                   0              2   \n",
              "\n",
              "   no_of_online_courses  Library_usage  study_hours  Attendance  \n",
              "0                     4              1          NaN           3  \n",
              "1                     4              1          2.0           3  \n",
              "2                     4              1          NaN           2  \n",
              "3                     3              1          2.0           2  \n",
              "4                     7              2          2.0           2  "
            ]
          },
          "execution_count": 6,
          "metadata": {},
          "output_type": "execute_result"
        }
      ],
      "source": [
        "datas.head()"
      ]
    },
    {
      "cell_type": "code",
      "execution_count": null,
      "metadata": {
        "colab": {
          "base_uri": "https://localhost:8080/",
          "height": 240
        },
        "id": "4fZ2OHVpp3I2",
        "outputId": "e9ec5944-24ca-4615-ce04-e58d8f0abb9e"
      },
      "outputs": [
        {
          "data": {
            "text/html": [
              "<div>\n",
              "<style scoped>\n",
              "    .dataframe tbody tr th:only-of-type {\n",
              "        vertical-align: middle;\n",
              "    }\n",
              "\n",
              "    .dataframe tbody tr th {\n",
              "        vertical-align: top;\n",
              "    }\n",
              "\n",
              "    .dataframe thead th {\n",
              "        text-align: right;\n",
              "    }\n",
              "</style>\n",
              "<table border=\"1\" class=\"dataframe\">\n",
              "  <thead>\n",
              "    <tr style=\"text-align: right;\">\n",
              "      <th></th>\n",
              "      <th>Name</th>\n",
              "      <th>Gender</th>\n",
              "      <th>10th %</th>\n",
              "      <th>12th %</th>\n",
              "      <th>CGPA</th>\n",
              "      <th>placement_status</th>\n",
              "      <th>Backlogs</th>\n",
              "      <th>core_concepts</th>\n",
              "      <th>coding</th>\n",
              "      <th>stay</th>\n",
              "      <th>meal_intake</th>\n",
              "      <th>social_media_usage</th>\n",
              "      <th>hrs_in_social_media</th>\n",
              "      <th>sleep(hrs)</th>\n",
              "      <th>physical_activites</th>\n",
              "      <th>communication</th>\n",
              "      <th>no_of_online_courses</th>\n",
              "      <th>Library_usage</th>\n",
              "      <th>study_hours</th>\n",
              "      <th>Attendance</th>\n",
              "    </tr>\n",
              "  </thead>\n",
              "  <tbody>\n",
              "    <tr>\n",
              "      <th>0</th>\n",
              "      <td>Aparna M</td>\n",
              "      <td>1</td>\n",
              "      <td>93.1</td>\n",
              "      <td>92.3</td>\n",
              "      <td>9.44</td>\n",
              "      <td>1</td>\n",
              "      <td>0</td>\n",
              "      <td>1</td>\n",
              "      <td>1</td>\n",
              "      <td>0</td>\n",
              "      <td>3</td>\n",
              "      <td>1</td>\n",
              "      <td>3.0</td>\n",
              "      <td>2</td>\n",
              "      <td>1</td>\n",
              "      <td>3</td>\n",
              "      <td>4</td>\n",
              "      <td>1</td>\n",
              "      <td>1</td>\n",
              "      <td>3</td>\n",
              "    </tr>\n",
              "    <tr>\n",
              "      <th>1</th>\n",
              "      <td>M.Sreenandhini</td>\n",
              "      <td>1</td>\n",
              "      <td>90.0</td>\n",
              "      <td>65.0</td>\n",
              "      <td>8.70</td>\n",
              "      <td>0</td>\n",
              "      <td>0</td>\n",
              "      <td>3</td>\n",
              "      <td>3</td>\n",
              "      <td>1</td>\n",
              "      <td>3</td>\n",
              "      <td>1</td>\n",
              "      <td>2.0</td>\n",
              "      <td>3</td>\n",
              "      <td>0</td>\n",
              "      <td>2</td>\n",
              "      <td>4</td>\n",
              "      <td>1</td>\n",
              "      <td>2</td>\n",
              "      <td>3</td>\n",
              "    </tr>\n",
              "    <tr>\n",
              "      <th>2</th>\n",
              "      <td>Thejaswin</td>\n",
              "      <td>0</td>\n",
              "      <td>95.0</td>\n",
              "      <td>77.0</td>\n",
              "      <td>8.40</td>\n",
              "      <td>1</td>\n",
              "      <td>0</td>\n",
              "      <td>2</td>\n",
              "      <td>2</td>\n",
              "      <td>0</td>\n",
              "      <td>3</td>\n",
              "      <td>1</td>\n",
              "      <td>2.0</td>\n",
              "      <td>1</td>\n",
              "      <td>0</td>\n",
              "      <td>2</td>\n",
              "      <td>4</td>\n",
              "      <td>1</td>\n",
              "      <td>1</td>\n",
              "      <td>2</td>\n",
              "    </tr>\n",
              "    <tr>\n",
              "      <th>3</th>\n",
              "      <td>Hari</td>\n",
              "      <td>0</td>\n",
              "      <td>97.4</td>\n",
              "      <td>93.8</td>\n",
              "      <td>8.95</td>\n",
              "      <td>1</td>\n",
              "      <td>0</td>\n",
              "      <td>1</td>\n",
              "      <td>2</td>\n",
              "      <td>0</td>\n",
              "      <td>3</td>\n",
              "      <td>1</td>\n",
              "      <td>5.0</td>\n",
              "      <td>3</td>\n",
              "      <td>0</td>\n",
              "      <td>2</td>\n",
              "      <td>3</td>\n",
              "      <td>1</td>\n",
              "      <td>2</td>\n",
              "      <td>2</td>\n",
              "    </tr>\n",
              "    <tr>\n",
              "      <th>4</th>\n",
              "      <td>Varshini R</td>\n",
              "      <td>1</td>\n",
              "      <td>78.0</td>\n",
              "      <td>82.0</td>\n",
              "      <td>8.86</td>\n",
              "      <td>1</td>\n",
              "      <td>0</td>\n",
              "      <td>2</td>\n",
              "      <td>2</td>\n",
              "      <td>1</td>\n",
              "      <td>3</td>\n",
              "      <td>1</td>\n",
              "      <td>5.0</td>\n",
              "      <td>3</td>\n",
              "      <td>0</td>\n",
              "      <td>2</td>\n",
              "      <td>7</td>\n",
              "      <td>2</td>\n",
              "      <td>2</td>\n",
              "      <td>2</td>\n",
              "    </tr>\n",
              "  </tbody>\n",
              "</table>\n",
              "</div>"
            ],
            "text/plain": [
              "             Name  Gender  10th % 12th %  CGPA  placement_status  Backlogs  \\\n",
              "0        Aparna M       1    93.1   92.3  9.44                 1         0   \n",
              "1  M.Sreenandhini       1    90.0   65.0  8.70                 0         0   \n",
              "2       Thejaswin       0    95.0   77.0  8.40                 1         0   \n",
              "3            Hari       0    97.4   93.8  8.95                 1         0   \n",
              "4      Varshini R       1    78.0   82.0  8.86                 1         0   \n",
              "\n",
              "   core_concepts  coding  stay meal_intake  social_media_usage  \\\n",
              "0              1       1     0           3                   1   \n",
              "1              3       3     1           3                   1   \n",
              "2              2       2     0           3                   1   \n",
              "3              1       2     0           3                   1   \n",
              "4              2       2     1           3                   1   \n",
              "\n",
              "   hrs_in_social_media  sleep(hrs)  physical_activites  communication  \\\n",
              "0                  3.0           2                   1              3   \n",
              "1                  2.0           3                   0              2   \n",
              "2                  2.0           1                   0              2   \n",
              "3                  5.0           3                   0              2   \n",
              "4                  5.0           3                   0              2   \n",
              "\n",
              "   no_of_online_courses  Library_usage  study_hours  Attendance  \n",
              "0                     4              1            1           3  \n",
              "1                     4              1            2           3  \n",
              "2                     4              1            1           2  \n",
              "3                     3              1            2           2  \n",
              "4                     7              2            2           2  "
            ]
          },
          "execution_count": 14,
          "metadata": {},
          "output_type": "execute_result"
        }
      ],
      "source": [
        ""
      ]
    },
    {
      "cell_type": "code",
      "execution_count": null,
      "metadata": {
        "id": "7at4MO1XZnJS"
      },
      "outputs": [],
      "source": [
        ""
      ]
    },
    {
      "cell_type": "markdown",
      "metadata": {
        "id": "gt8B1UTfZn3i"
      },
      "source": [
        "# HEATMAP\n"
      ]
    },
    {
      "cell_type": "code",
      "execution_count": null,
      "metadata": {
        "colab": {
          "base_uri": "https://localhost:8080/",
          "height": 545
        },
        "id": "rktw4PhGZsTa",
        "outputId": "956f8aa5-ffde-4a0a-9273-8c4b04719b6e"
      },
      "outputs": [
        {
          "data": {
            "text/plain": [
              "<AxesSubplot:>"
            ]
          },
          "execution_count": 7,
          "metadata": {},
          "output_type": "execute_result"
        },
        {
          "data": {
            "image/png": "[encoded data removed]",
            "text/plain": [
              "<Figure size 2160x720 with 2 Axes>"
            ]
          },
          "metadata": {
            "needs_background": "light"
          },
          "output_type": "display_data"
        }
      ],
      "source": [
        "heat =datas.corr()\n",
        "plt.figure(figsize=(30,10))\n",
        "sns.heatmap(heat, annot=True)"
      ]
    },
    {
      "cell_type": "code",
      "execution_count": null,
      "metadata": {
        "colab": {
          "base_uri": "https://localhost:8080/",
          "height": 350
        },
        "id": "ghiOIqhXxT2Y",
        "outputId": "ccbee74c-f96b-44da-cb8d-2dfae882af2b"
      },
      "outputs": [
        {
          "data": {
            "text/plain": [
              "<AxesSubplot:xlabel='placement_status', ylabel='count'>"
            ]
          },
          "execution_count": 9,
          "metadata": {},
          "output_type": "execute_result"
        },
        {
          "data": {
            "image/png": "[encoded data removed]",
            "text/plain": [
              "<Figure size 432x288 with 1 Axes>"
            ]
          },
          "metadata": {
            "needs_background": "light"
          },
          "output_type": "display_data"
        }
      ],
      "source": [
        "sns.countplot(x ='placement_status', hue=\"Gender\" , data = datas) "
      ]
    },
    {
      "cell_type": "code",
      "execution_count": null,
      "metadata": {
        "id": "AlaFayUP44Cw"
      },
      "outputs": [],
      "source": [
        "sns.countplot(datas['placement_status']) "
      ]
    },
    {
      "cell_type": "code",
      "execution_count": null,
      "metadata": {
        "id": "bUYxVssw44Cw",
        "outputId": "76de7dd0-ebf0-4695-8ea0-73318d0450c9"
      },
      "outputs": [
        {
          "name": "stderr",
          "output_type": "stream",
          "text": [
            "C:\\Users\\USER\\anaconda3\\lib\\site-packages\\seaborn\\_decorators.py:36: FutureWarning: Pass the following variable as a keyword arg: x. From version 0.12, the only valid positional argument will be `data`, and passing other arguments without an explicit keyword will result in an error or misinterpretation.\n",
            "  warnings.warn(\n"
          ]
        },
        {
          "data": {
            "text/plain": [
              "<AxesSubplot:xlabel='Backlogs', ylabel='count'>"
            ]
          },
          "execution_count": 20,
          "metadata": {},
          "output_type": "execute_result"
        },
        {
          "data": {
            "image/png": "[encoded data removed]",
            "text/plain": [
              "<Figure size 432x288 with 1 Axes>"
            ]
          },
          "metadata": {
            "needs_background": "light"
          },
          "output_type": "display_data"
        }
      ],
      "source": [
        "sns.countplot(datas['Backlogs']) "
      ]
    },
    {
      "cell_type": "code",
      "execution_count": null,
      "metadata": {
        "id": "olQr4khV44Cw",
        "outputId": "fb929df5-bcf3-42dc-bc7b-d777397db1e5"
      },
      "outputs": [
        {
          "name": "stderr",
          "output_type": "stream",
          "text": [
            "C:\\Users\\USER\\anaconda3\\lib\\site-packages\\seaborn\\_decorators.py:36: FutureWarning: Pass the following variable as a keyword arg: x. From version 0.12, the only valid positional argument will be `data`, and passing other arguments without an explicit keyword will result in an error or misinterpretation.\n",
            "  warnings.warn(\n"
          ]
        },
        {
          "data": {
            "text/plain": [
              "<AxesSubplot:xlabel='social_media_usage', ylabel='count'>"
            ]
          },
          "execution_count": 21,
          "metadata": {},
          "output_type": "execute_result"
        },
        {
          "data": {
            "image/png": "[encoded data removed]",
            "text/plain": [
              "<Figure size 432x288 with 1 Axes>"
            ]
          },
          "metadata": {
            "needs_background": "light"
          },
          "output_type": "display_data"
        }
      ],
      "source": [
        "sns.countplot(datas['social_media_usage'])"
      ]
    },
    {
      "cell_type": "code",
      "execution_count": null,
      "metadata": {
        "id": "6rgD_jCW44Cx",
        "outputId": "871019bf-2f1a-46bd-dde9-4dec745e6054"
      },
      "outputs": [
        {
          "name": "stderr",
          "output_type": "stream",
          "text": [
            "C:\\Users\\USER\\anaconda3\\lib\\site-packages\\seaborn\\_decorators.py:36: FutureWarning: Pass the following variable as a keyword arg: x. From version 0.12, the only valid positional argument will be `data`, and passing other arguments without an explicit keyword will result in an error or misinterpretation.\n",
            "  warnings.warn(\n"
          ]
        },
        {
          "data": {
            "text/plain": [
              "<AxesSubplot:xlabel='stay', ylabel='count'>"
            ]
          },
          "execution_count": 22,
          "metadata": {},
          "output_type": "execute_result"
        },
        {
          "data": {
            "image/png": "[encoded data removed]",
            "text/plain": [
              "<Figure size 432x288 with 1 Axes>"
            ]
          },
          "metadata": {
            "needs_background": "light"
          },
          "output_type": "display_data"
        }
      ],
      "source": [
        "sns.countplot(datas['stay'])"
      ]
    },
    {
      "cell_type": "code",
      "execution_count": null,
      "metadata": {
        "id": "hN2-SYHx44Cx",
        "outputId": "f881ce0f-69c9-4982-82d4-b2cc67d2b336"
      },
      "outputs": [
        {
          "name": "stderr",
          "output_type": "stream",
          "text": [
            "C:\\Users\\USER\\anaconda3\\lib\\site-packages\\seaborn\\_decorators.py:36: FutureWarning: Pass the following variable as a keyword arg: x. From version 0.12, the only valid positional argument will be `data`, and passing other arguments without an explicit keyword will result in an error or misinterpretation.\n",
            "  warnings.warn(\n"
          ]
        },
        {
          "data": {
            "text/plain": [
              "<AxesSubplot:xlabel='core_concepts', ylabel='count'>"
            ]
          },
          "execution_count": 23,
          "metadata": {},
          "output_type": "execute_result"
        },
        {
          "data": {
            "image/png": "[encoded data removed]",
            "text/plain": [
              "<Figure size 432x288 with 1 Axes>"
            ]
          },
          "metadata": {
            "needs_background": "light"
          },
          "output_type": "display_data"
        }
      ],
      "source": [
        "sns.countplot(datas['core_concepts'])"
      ]
    },
    {
      "cell_type": "code",
      "execution_count": null,
      "metadata": {
        "id": "9lRgmJRS44Cx",
        "outputId": "f50acecb-e2fe-42fc-ddaa-6213a0967814"
      },
      "outputs": [
        {
          "name": "stderr",
          "output_type": "stream",
          "text": [
            "C:\\Users\\USER\\anaconda3\\lib\\site-packages\\seaborn\\_decorators.py:36: FutureWarning: Pass the following variable as a keyword arg: x. From version 0.12, the only valid positional argument will be `data`, and passing other arguments without an explicit keyword will result in an error or misinterpretation.\n",
            "  warnings.warn(\n"
          ]
        },
        {
          "data": {
            "text/plain": [
              "<AxesSubplot:xlabel='coding', ylabel='count'>"
            ]
          },
          "execution_count": 24,
          "metadata": {},
          "output_type": "execute_result"
        },
        {
          "data": {
            "image/png": "[encoded data removed]",
            "text/plain": [
              "<Figure size 432x288 with 1 Axes>"
            ]
          },
          "metadata": {
            "needs_background": "light"
          },
          "output_type": "display_data"
        }
      ],
      "source": [
        "sns.countplot(datas['coding'])"
      ]
    },
    {
      "cell_type": "code",
      "execution_count": null,
      "metadata": {
        "id": "nmG_nw7344Cx",
        "outputId": "40ebfb5c-fe40-43c4-b567-2a927701887b"
      },
      "outputs": [
        {
          "name": "stderr",
          "output_type": "stream",
          "text": [
            "C:\\Users\\USER\\anaconda3\\lib\\site-packages\\seaborn\\_decorators.py:36: FutureWarning: Pass the following variable as a keyword arg: x. From version 0.12, the only valid positional argument will be `data`, and passing other arguments without an explicit keyword will result in an error or misinterpretation.\n",
            "  warnings.warn(\n"
          ]
        },
        {
          "data": {
            "text/plain": [
              "<AxesSubplot:xlabel='sleep(hrs)', ylabel='count'>"
            ]
          },
          "execution_count": 25,
          "metadata": {},
          "output_type": "execute_result"
        },
        {
          "data": {
            "image/png": "[encoded data removed]",
            "text/plain": [
              "<Figure size 432x288 with 1 Axes>"
            ]
          },
          "metadata": {
            "needs_background": "light"
          },
          "output_type": "display_data"
        }
      ],
      "source": [
        "sns.countplot(datas['sleep(hrs)'])"
      ]
    },
    {
      "cell_type": "code",
      "execution_count": null,
      "metadata": {
        "id": "9-aDPkKs44Cy",
        "outputId": "ad5e304e-9c14-4b2d-fbb3-332c0e3bb660"
      },
      "outputs": [
        {
          "name": "stderr",
          "output_type": "stream",
          "text": [
            "C:\\Users\\USER\\anaconda3\\lib\\site-packages\\seaborn\\_decorators.py:36: FutureWarning: Pass the following variable as a keyword arg: x. From version 0.12, the only valid positional argument will be `data`, and passing other arguments without an explicit keyword will result in an error or misinterpretation.\n",
            "  warnings.warn(\n"
          ]
        },
        {
          "data": {
            "text/plain": [
              "<AxesSubplot:xlabel='communication', ylabel='count'>"
            ]
          },
          "execution_count": 26,
          "metadata": {},
          "output_type": "execute_result"
        },
        {
          "data": {
            "image/png": "[encoded data removed]",
            "text/plain": [
              "<Figure size 432x288 with 1 Axes>"
            ]
          },
          "metadata": {
            "needs_background": "light"
          },
          "output_type": "display_data"
        }
      ],
      "source": [
        "sns.countplot(datas['communication'])"
      ]
    },
    {
      "cell_type": "code",
      "execution_count": null,
      "metadata": {
        "id": "r55-2PEz44Cy",
        "outputId": "52f00d30-811e-413d-9d2a-086aae1c7f7b"
      },
      "outputs": [
        {
          "name": "stderr",
          "output_type": "stream",
          "text": [
            "C:\\Users\\USER\\anaconda3\\lib\\site-packages\\seaborn\\_decorators.py:36: FutureWarning: Pass the following variable as a keyword arg: x. From version 0.12, the only valid positional argument will be `data`, and passing other arguments without an explicit keyword will result in an error or misinterpretation.\n",
            "  warnings.warn(\n"
          ]
        },
        {
          "data": {
            "text/plain": [
              "<AxesSubplot:xlabel='Library_usage', ylabel='count'>"
            ]
          },
          "execution_count": 27,
          "metadata": {},
          "output_type": "execute_result"
        },
        {
          "data": {
            "image/png": "[encoded data removed]",
            "text/plain": [
              "<Figure size 432x288 with 1 Axes>"
            ]
          },
          "metadata": {
            "needs_background": "light"
          },
          "output_type": "display_data"
        }
      ],
      "source": [
        "sns.countplot(datas['Library_usage'])"
      ]
    },
    {
      "cell_type": "code",
      "execution_count": null,
      "metadata": {
        "id": "V8FAgmAr44Cy",
        "outputId": "4666ae8c-f823-4255-ebb0-faa562128f2d"
      },
      "outputs": [
        {
          "name": "stderr",
          "output_type": "stream",
          "text": [
            "C:\\Users\\USER\\anaconda3\\lib\\site-packages\\seaborn\\_decorators.py:36: FutureWarning: Pass the following variable as a keyword arg: x. From version 0.12, the only valid positional argument will be `data`, and passing other arguments without an explicit keyword will result in an error or misinterpretation.\n",
            "  warnings.warn(\n"
          ]
        },
        {
          "data": {
            "text/plain": [
              "<AxesSubplot:xlabel='Attendance', ylabel='count'>"
            ]
          },
          "execution_count": 28,
          "metadata": {},
          "output_type": "execute_result"
        },
        {
          "data": {
            "image/png": "[encoded data removed]",
            "text/plain": [
              "<Figure size 432x288 with 1 Axes>"
            ]
          },
          "metadata": {
            "needs_background": "light"
          },
          "output_type": "display_data"
        }
      ],
      "source": [
        "sns.countplot(datas['Attendance'])"
      ]
    },
    {
      "cell_type": "code",
      "execution_count": null,
      "metadata": {
        "id": "zouB9KT344Cy",
        "outputId": "ff52eaee-a03e-41cf-f21e-0d427cc54675"
      },
      "outputs": [
        {
          "name": "stderr",
          "output_type": "stream",
          "text": [
            "C:\\Users\\USER\\anaconda3\\lib\\site-packages\\seaborn\\_decorators.py:36: FutureWarning: Pass the following variable as a keyword arg: x. From version 0.12, the only valid positional argument will be `data`, and passing other arguments without an explicit keyword will result in an error or misinterpretation.\n",
            "  warnings.warn(\n"
          ]
        },
        {
          "data": {
            "text/plain": [
              "<AxesSubplot:xlabel='hrs_in_social_media', ylabel='count'>"
            ]
          },
          "execution_count": 29,
          "metadata": {},
          "output_type": "execute_result"
        },
        {
          "data": {
            "image/png": "[encoded data removed]",
            "text/plain": [
              "<Figure size 432x288 with 1 Axes>"
            ]
          },
          "metadata": {
            "needs_background": "light"
          },
          "output_type": "display_data"
        }
      ],
      "source": [
        "sns.countplot(datas['hrs_in_social_media'])"
      ]
    },
    {
      "cell_type": "code",
      "execution_count": null,
      "metadata": {
        "id": "Fz9Sq0tJ44Cz",
        "outputId": "daaff0f8-fcda-48fc-af92-e041a9072a82"
      },
      "outputs": [
        {
          "name": "stderr",
          "output_type": "stream",
          "text": [
            "C:\\Users\\USER\\anaconda3\\lib\\site-packages\\seaborn\\_decorators.py:36: FutureWarning: Pass the following variable as a keyword arg: x. From version 0.12, the only valid positional argument will be `data`, and passing other arguments without an explicit keyword will result in an error or misinterpretation.\n",
            "  warnings.warn(\n"
          ]
        },
        {
          "data": {
            "text/plain": [
              "<AxesSubplot:xlabel='no_of_online_courses', ylabel='count'>"
            ]
          },
          "execution_count": 30,
          "metadata": {},
          "output_type": "execute_result"
        },
        {
          "data": {
            "image/png": "[encoded data removed]",
            "text/plain": [
              "<Figure size 432x288 with 1 Axes>"
            ]
          },
          "metadata": {
            "needs_background": "light"
          },
          "output_type": "display_data"
        }
      ],
      "source": [
        "sns.countplot(datas['no_of_online_courses'])"
      ]
    },
    {
      "cell_type": "code",
      "execution_count": null,
      "metadata": {
        "id": "lOmb1PpD44C0"
      },
      "outputs": [],
      "source": [
        ""
      ]
    }
  ],
  "metadata": {
    "colab": {
      "name": "Project Phase 1 Final",
      "provenance": []
    },
    "kernelspec": {
      "display_name": "Python 3",
      "language": "python",
      "name": "python3"
    },
    "language_info": {
      "codemirror_mode": {
        "name": "ipython",
        "version": 3
      },
      "file_extension": ".py",
      "mimetype": "text/x-python",
      "name": "python",
      "nbconvert_exporter": "python",
      "pygments_lexer": "ipython3",
      "version": "3.8.8"
    }
  },
  "nbformat": 4,
  "nbformat_minor": 0
}